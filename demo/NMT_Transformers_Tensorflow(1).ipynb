{
  "cells": [
    {
      "cell_type": "markdown",
      "metadata": {
        "id": "PtxtWv4pARNS"
      },
      "source": [
        "## Download Dataset"
      ]
    },
    {
      "cell_type": "code",
      "execution_count": null,
      "metadata": {
        "id": "6bKSgofzA1n6"
      },
      "outputs": [],
      "source": [
        "%cd /content/drive/MyDrive/Colab Notebooks/NMT\n",
        "!pip install transformers\n",
        "import pathlib\n",
        "import pickle\n",
        "import random\n",
        "import re\n",
        "import unicodedata\n",
        "import tensorflow as tf\n",
        "from tensorflow.keras.layers import TextVectorization"
      ]
    },
    {
      "cell_type": "markdown",
      "metadata": {
        "id": "es6dG8iaeHkB"
      },
      "source": []
    },
    {
      "cell_type": "code",
      "execution_count": null,
      "metadata": {
        "colab": {
          "base_uri": "https://localhost:8080/"
        },
        "id": "fjoMUIa6AJPb",
        "outputId": "27027105-06f9-445f-e93a-59ab45f51688"
      },
      "outputs": [
        {
          "output_type": "stream",
          "name": "stdout",
          "text": [
            "Downloading data from http://storage.googleapis.com/download.tensorflow.org/data/fra-eng.zip\n",
            "3423204/3423204 [==============================] - 0s 0us/step\n",
            "/root/.keras/datasets/fra.txt\n"
          ]
        }
      ],
      "source": [
        "import pathlib\n",
        "import tensorflow as tf\n",
        "\n",
        "text_file = tf.keras.utils.get_file(\n",
        "    fname=\"fra-eng.zip\",\n",
        "    origin=\"http://storage.googleapis.com/download.tensorflow.org/data/fra-eng.zip\",\n",
        "    extract=True,\n",
        ")\n",
        "text_file = pathlib.Path(text_file).parent/\"fra.txt\"\n",
        "print(text_file)"
      ]
    },
    {
      "cell_type": "markdown",
      "metadata": {
        "id": "6sdTvZlCA7YX"
      },
      "source": [
        "## Preprocessing"
      ]
    },
    {
      "cell_type": "code",
      "execution_count": null,
      "metadata": {
        "id": "MsbOAiQFBBxr",
        "colab": {
          "base_uri": "https://localhost:8080/"
        },
        "outputId": "86ecf19d-3246-4558-a56a-1ff2a0813a4f"
      },
      "outputs": [
        {
          "output_type": "stream",
          "name": "stdout",
          "text": [
            "Each sample of data will look like this: ('What does he see in her ?', '[start] Que lui trouve-t-il  ?  [end]')\n",
            "Numper of sampels: 167130\n",
            "Max length in english sequences: 51\n",
            "Max length in french sequences: 60\n",
            "Numper of token in english sequences: 16721\n",
            "Numper of token in french sequences: 31405\n"
          ]
        }
      ],
      "source": [
        "import pathlib\n",
        "import pickle\n",
        "import random\n",
        "import re\n",
        "import unicodedata\n",
        "\n",
        "def normalize(line):\n",
        "    \"\"\"\n",
        "    Normalize a line of text and split into two at the tab character\n",
        "    Args: The normalize function takes a line of text as input.\n",
        "    Return: Normalized English and French sentences as a tuple (eng, fra).\n",
        "    \"\"\"\n",
        "    line = unicodedata.normalize(\"NFKC\", line.strip())\n",
        "\n",
        "    # Perform regular expression substitutions to add spaces around non-alphanumeric characters\n",
        "    line = re.sub(r\"^([^ \\w])(?!\\s)\", r\"\\1 \", line)\n",
        "    line = re.sub(r\"(\\s[^ \\w])(?!\\s)\", r\"\\1 \", line)\n",
        "    line = re.sub(r\"(?!\\s)([^ \\w])$\", r\" \\1\", line)\n",
        "    line = re.sub(r\"(?!\\s)([^ \\w]\\s)\", r\" \\1\", line)\n",
        "\n",
        "    # Split the line of text into two parts at the tab character\n",
        "    eng, fra = line.split(\"\\t\")\n",
        "\n",
        "    # Add \"[start]\" and \"[end]\" tokens to the \"fra\" part of the line\n",
        "    fra = \"[start] \" + fra + \" [end]\"\n",
        "\n",
        "    # Return the normalized English and French sentences\n",
        "    return eng, fra\n",
        "\n",
        "\n",
        "# normalize each line and separate into English and French\n",
        "with open(text_file) as fp:\n",
        "    text_pairs = [normalize(line) for line in fp]\n",
        "\n",
        "print(f\"Each sample of data will look like this: {text_pairs[55805]}\")\n",
        "print(f\"Numper of sampels: {len(text_pairs)}\")\n",
        "print(f\"Max length in english sequences: {max([len(x[0].split()) for x in text_pairs])}\")\n",
        "print(f\"Max length in french sequences: {max([len(x[1].split()) for x in text_pairs])}\")\n",
        "print(f\"Numper of token in english sequences: {len(set(token for s in [x[0].split() for x in text_pairs] for token in s))}\")\n",
        "print(f\"Numper of token in french sequences: {len(set(token for s in [x[1].split() for x in text_pairs] for token in s))}\")"
      ]
    },
    {
      "cell_type": "code",
      "execution_count": null,
      "metadata": {
        "colab": {
          "base_uri": "https://localhost:8080/"
        },
        "id": "yJBMX3IqCb67",
        "outputId": "45d772a4-c072-4d2b-e946-17838f962fbc"
      },
      "outputs": [
        {
          "output_type": "stream",
          "name": "stdout",
          "text": [
            "60 maximum length\n",
            "167130 total pairs\n",
            "116992 training pairs\n",
            "25069 validation pairs\n",
            "25069 test pairs\n"
          ]
        }
      ],
      "source": [
        "random.shuffle(text_pairs)\n",
        "max_len = max([max([len(x[0].split()), len(x[1].split())]) for x in text_pairs])\n",
        "num_val_samples = int(0.15 * len(text_pairs))\n",
        "num_train_samples = len(text_pairs) - 2 * num_val_samples\n",
        "train_pairs = text_pairs[:num_train_samples]\n",
        "val_pairs = text_pairs[num_train_samples : num_train_samples + num_val_samples]\n",
        "test_pairs = text_pairs[num_train_samples + num_val_samples :]\n",
        "\n",
        "print(f\"{max_len} maximum length\")\n",
        "print(f\"{len(text_pairs)} total pairs\")\n",
        "print(f\"{len(train_pairs)} training pairs\")\n",
        "print(f\"{len(val_pairs)} validation pairs\")\n",
        "print(f\"{len(test_pairs)} test pairs\")"
      ]
    },
    {
      "cell_type": "markdown",
      "metadata": {
        "id": "-ZkBwvWnIHrz"
      },
      "source": [
        "\n",
        "## Vectorization and Making Datasets"
      ]
    },
    {
      "cell_type": "code",
      "execution_count": null,
      "metadata": {
        "id": "tRDKwDIiIJoy"
      },
      "outputs": [],
      "source": [
        "from tensorflow.keras.layers import TextVectorization\n",
        "\n",
        "class Config:\n",
        "    def __init__(self):\n",
        "        self.sequence_length = 60\n",
        "        self.source_vocab_size = 14969\n",
        "        self.target_vocab_size = 29219\n",
        "\n",
        "config = Config()\n",
        "\n",
        "# English layer\n",
        "eng_vectorizer = TextVectorization(\n",
        "    max_tokens=config.source_vocab_size,\n",
        "    standardize=None,\n",
        "    split=\"whitespace\",\n",
        "    output_mode=\"int\",\n",
        "    output_sequence_length=config.sequence_length,\n",
        ")\n",
        "# French layer\n",
        "fra_vectorizer = TextVectorization(\n",
        "    max_tokens=config.target_vocab_size,\n",
        "    standardize=None,\n",
        "    split=\"whitespace\",\n",
        "    output_mode=\"int\",\n",
        "    output_sequence_length=config.sequence_length + 1 # since we'll need to offset the sentence by one step during training.\n",
        "\n",
        ")\n",
        "\n",
        "train_eng_texts = [pair[0] for pair in train_pairs]\n",
        "train_fra_texts = [pair[1] for pair in train_pairs]\n",
        "\n",
        "# Learn the vocabulary\n",
        "eng_vectorizer.adapt(train_eng_texts)\n",
        "fra_vectorizer.adapt(train_fra_texts)"
      ]
    },
    {
      "cell_type": "code",
      "execution_count": null,
      "metadata": {
        "id": "-HG71WIMLXuL"
      },
      "outputs": [],
      "source": [
        "# save for subsequent steps\n",
        "with open(\"vectorize.pickle\", \"wb\") as fp:\n",
        "    data = {\n",
        "        \"train\": train_pairs,\n",
        "        \"val\":   val_pairs,\n",
        "        \"test\":  test_pairs,\n",
        "        \"engvec_config\":  eng_vectorizer.get_config(),\n",
        "        \"engvec_weights\": eng_vectorizer.get_weights(),\n",
        "        \"fravec_config\":  fra_vectorizer.get_config(),\n",
        "        \"fravec_weights\": fra_vectorizer.get_weights(),\n",
        "    }\n",
        "    pickle.dump(data, fp)"
      ]
    },
    {
      "cell_type": "code",
      "execution_count": null,
      "metadata": {
        "id": "3yYJmlssBvkA"
      },
      "outputs": [],
      "source": [
        "with open(\"vectorize.pickle\", \"rb\") as fp:\n",
        "    data = pickle.load(fp)\n",
        "\n",
        "train_pairs = data[\"train\"]\n",
        "val_pairs = data[\"val\"]\n",
        "test_pairs = data[\"test\"]   # not used\n",
        "eng_vectorizer = TextVectorization.from_config(data[\"engvec_config\"])\n",
        "eng_vectorizer.set_weights(data[\"engvec_weights\"])\n",
        "fra_vectorizer = TextVectorization.from_config(data[\"fravec_config\"])\n",
        "fra_vectorizer.set_weights(data[\"fravec_weights\"])"
      ]
    },
    {
      "cell_type": "code",
      "execution_count": null,
      "metadata": {
        "id": "m3lj1LCLFta4"
      },
      "outputs": [],
      "source": [
        "from tensorflow.data import AUTOTUNE\n",
        "\n",
        "def format_dataset(eng, fra):\n",
        "    \"\"\"\n",
        "    Formats the dataset by applying vectorization and preparing the inputs for the encoder and decoder.\n",
        "\n",
        "    Args:\n",
        "        eng: English text tensor.\n",
        "        fra: French text tensor.\n",
        "\n",
        "    Returns:\n",
        "        Tuple of formatted inputs for the encoder and decoder.\n",
        "    \"\"\"\n",
        "    eng = eng_vectorizer(eng)\n",
        "    fra = fra_vectorizer(fra)\n",
        "    return (\n",
        "        {\"encoder_inputs\": eng, \"decoder_inputs\": fra[:, :-1]},\n",
        "        fra[:, 1:]\n",
        "    )\n",
        "\n",
        "\n",
        "def make_dataset(pairs, batch_size=64):\n",
        "    \"\"\"\n",
        "    Creates a dataset from pairs of English and French texts.\n",
        "\n",
        "    Args:\n",
        "        pairs: List of pairs containing English and French texts.\n",
        "        batch_size: Batch size for the dataset.\n",
        "\n",
        "    Returns:\n",
        "        Formatted and preprocessed dataset.\n",
        "    \"\"\"\n",
        "    eng_texts, fra_texts = zip(*pairs)\n",
        "    eng_texts = list(eng_texts)\n",
        "    fra_texts = list(fra_texts)\n",
        "\n",
        "    dataset = tf.data.Dataset.from_tensor_slices((eng_texts, fra_texts))\n",
        "    dataset = dataset.batch(batch_size)\n",
        "    dataset = dataset.map(format_dataset, num_parallel_calls=tf.data.experimental.AUTOTUNE)\n",
        "    dataset = dataset.shuffle(2048).prefetch(tf.data.experimental.AUTOTUNE).cache()\n",
        "\n",
        "    return dataset\n",
        "\n",
        "train_ds = make_dataset(train_pairs)\n",
        "val_ds = make_dataset(val_pairs)"
      ]
    },
    {
      "cell_type": "markdown",
      "metadata": {
        "id": "plQuKWBfJas8"
      },
      "source": [
        "## Transformer Building Blocks"
      ]
    },
    {
      "cell_type": "markdown",
      "metadata": {
        "id": "teVoKbyGbzyu"
      },
      "source": [
        "### Embeddings"
      ]
    },
    {
      "cell_type": "markdown",
      "metadata": {
        "id": "Mz42CtYkbuT8"
      },
      "source": [
        "#### Sinu_embeddings"
      ]
    },
    {
      "cell_type": "code",
      "execution_count": null,
      "metadata": {
        "id": "Lt1Tv9RQbnl8"
      },
      "outputs": [],
      "source": [
        "import tensorflow as tf\n",
        "\n",
        "class SinusoidalPositionalEncoding(tf.keras.layers.Layer):\n",
        "    \"\"\"\n",
        "    SinusoidalPositionalEncoding layer.\n",
        "\n",
        "    This layer applies sinusoidal positional encodings to the input embeddings.\n",
        "\n",
        "    Args:\n",
        "        config (object): Configuration object containing parameters.\n",
        "    \"\"\"\n",
        "    def __init__(self, config, name = None, **kwargs):\n",
        "        \"\"\"\n",
        "        Initialize the SinusoidalPositionalEncoding layer.\n",
        "\n",
        "        Args:\n",
        "            config (object): Configuration object with parameters for positional encoding.\n",
        "        \"\"\"\n",
        "        super(SinusoidalPositionalEncoding, self).__init__(name = name)\n",
        "        super(SinusoidalPositionalEncoding, self).__init__(**kwargs)\n",
        "\n",
        "    def call(self, input_ids):\n",
        "        \"\"\"\n",
        "        Apply positional encodings to the input embeddings.\n",
        "\n",
        "        Args:\n",
        "            input_ids (tf.Tensor): Input tensor containing token IDs.\n",
        "\n",
        "        Returns:\n",
        "            tf.Tensor: Output tensor with positional encodings added.\n",
        "        \"\"\"\n",
        "        self.position_encoding = self.create_positional_encoding_matrix(\n",
        "                input_ids.shape[1], config.hidden_size, config.frequency_factor\n",
        "        )\n",
        "        return self.position_encoding\n",
        "\n",
        "    def create_positional_encoding_matrix(self, sequence_length, embedding_dimension, frequency_factor=10000):\n",
        "        \"\"\"\n",
        "        Create a positional encoding matrix.\n",
        "\n",
        "        Args:\n",
        "            sequence_length (int): Length of the input sequence.\n",
        "            embedding_dimension (int): Dimensionality of the positional embeddings. Must be an even integer.\n",
        "            frequency_factor (int): Constant for the sinusoidal functions.\n",
        "\n",
        "        Returns:\n",
        "            tf.Tensor: Matrix of positional embeddings of shape (sequence_length, embedding_dimension).\n",
        "            The value at element (k, 2i) is sin(k / frequency_factor^(2i / embedding_dimension)),\n",
        "            and the value at element (k, 2i+1) is cos(k / frequency_factor^(2i / embedding_dimension)).\n",
        "        \"\"\"\n",
        "        assert embedding_dimension % 2 == 0, \"Embedding dimension needs to be an even integer\"\n",
        "        embedding_dimension_half = embedding_dimension // 2\n",
        "        positions = tf.range(sequence_length, dtype=tf.float32)[:, tf.newaxis]  # Column vector of shape (sequence_length, 1)\n",
        "        frequency_indices = tf.range(embedding_dimension_half, dtype=tf.float32)[tf.newaxis, :]  # Row vector of shape (1, embedding_dimension/2)\n",
        "        frequency_denominator = tf.pow(frequency_factor, -frequency_indices / embedding_dimension_half)  # frequency_factor^(-2i/d)\n",
        "        frequency_arguments = positions / frequency_denominator  # Matrix of shape (sequence_length, embedding_dimension)\n",
        "        sin_values = tf.sin(frequency_arguments)\n",
        "        cos_values = tf.cos(frequency_arguments)\n",
        "        positional_encodings = tf.concat([sin_values, cos_values], axis=1)\n",
        "\n",
        "        return positional_encodings\n",
        "\n",
        "    def get_config(self):\n",
        "        \"\"\"\n",
        "        Get the configuration of the SinusoidalPositionalEncoding layer.\n",
        "\n",
        "        Returns:\n",
        "            dict: Configuration dictionary.\n",
        "        \"\"\"\n",
        "        config = super().get_config()\n",
        "        return config"
      ]
    },
    {
      "cell_type": "code",
      "execution_count": null,
      "metadata": {
        "id": "YbDvfmb0nOtw",
        "colab": {
          "base_uri": "https://localhost:8080/"
        },
        "outputId": "b0f19f3f-c44f-4950-fe6d-d5b51cd2895f"
      },
      "outputs": [
        {
          "output_type": "stream",
          "name": "stdout",
          "text": [
            "Outputs:\n",
            "tf.Tensor([[3 2 2 3]], shape=(1, 4), dtype=int32)\n",
            "tf.Tensor(\n",
            "[[ 0.          0.          1.          1.        ]\n",
            " [ 0.841471   -0.5063722   0.5403023   0.862315  ]\n",
            " [ 0.90929747 -0.8733047  -0.4161468   0.48717433]\n",
            " [ 0.14112    -0.99975514 -0.9899925  -0.02212713]], shape=(4, 4), dtype=float32)\n"
          ]
        }
      ],
      "source": [
        "# Define the configuration\n",
        "class Config:\n",
        "    def __init__(self):\n",
        "        self.sequence_length = 4\n",
        "        self.source_vocab_size = 14969\n",
        "        self.target_vocab_size = 29219\n",
        "        self.hidden_size = 4\n",
        "        self.frequency_factor = 10000\n",
        "        self.mask_zero = True\n",
        "\n",
        "config = Config()\n",
        "\n",
        "# Create an instance of the SinusoidalPositionalEncoding layer\n",
        "positional_encoding_layer = SinusoidalPositionalEncoding(config)\n",
        "\n",
        "# Create a sample input tensor with token IDs\n",
        "batch_size = 1\n",
        "seq_length = 4\n",
        "input_ids = tf.random.uniform((batch_size, seq_length), maxval=config.sequence_length, dtype=tf.int32)\n",
        "\n",
        "# Apply positional encodings\n",
        "output_embeddings = positional_encoding_layer(input_ids)\n",
        "\n",
        "# Print the output positional embeddings\n",
        "print(\"Outputs:\")\n",
        "print(input_ids)\n",
        "print(output_embeddings)"
      ]
    },
    {
      "cell_type": "markdown",
      "metadata": {
        "id": "4MJkW6JgnkcX"
      },
      "source": [
        "#### Pos_Embeddings"
      ]
    },
    {
      "cell_type": "code",
      "execution_count": null,
      "metadata": {
        "id": "Q6nWd8WdPFOf"
      },
      "outputs": [],
      "source": [
        "import tensorflow as tf\n",
        "\n",
        "class PositionalEmbeddings(tf.keras.layers.Layer):\n",
        "    \"\"\"\n",
        "    PositionalEmbeddings layer.\n",
        "\n",
        "    This layer generates positional embeddings based on input IDs.\n",
        "    It uses an Embedding layer to map position IDs to position embeddings.\n",
        "\n",
        "    Args:\n",
        "        config (object): Configuration object containing parameters.\n",
        "    \"\"\"\n",
        "\n",
        "    def __init__(self, config, name = None, **kwargs):\n",
        "        super(PositionalEmbeddings, self).__init__(name = name)\n",
        "        super(PositionalEmbeddings, self).__init__(**kwargs)\n",
        "        self.positional_embeddings = tf.keras.layers.Embedding(\n",
        "            input_dim=config.sequence_length, output_dim=config.hidden_size\n",
        "        )\n",
        "\n",
        "    def call(self, input_ids):\n",
        "        \"\"\"\n",
        "        Generate positional embeddings.\n",
        "\n",
        "        Args:\n",
        "            input_ids (tf.Tensor): Input tensor containing token IDs.\n",
        "\n",
        "        Returns:\n",
        "            tf.Tensor: Positional embeddings tensor of shape (batch_size, seq_length, hidden_size).\n",
        "        \"\"\"\n",
        "        seq_length = input_ids.shape[1]\n",
        "        position_ids = tf.range(seq_length, dtype=tf.int32)[tf.newaxis, :]\n",
        "        position_embeddings = self.positional_embeddings(position_ids)\n",
        "        return position_embeddings\n",
        "\n",
        "    def get_config(self):\n",
        "        \"\"\"\n",
        "        Get the layer configuration.\n",
        "\n",
        "        Returns:\n",
        "            dict: Dictionary containing the layer configuration.\n",
        "        \"\"\"\n",
        "        config = super().get_config()\n",
        "        config.update({\n",
        "            \"positional_embeddings\": self.positional_embeddings,\n",
        "        })\n",
        "        return config"
      ]
    },
    {
      "cell_type": "code",
      "execution_count": null,
      "metadata": {
        "id": "T-kEgJbVzlcd",
        "colab": {
          "base_uri": "https://localhost:8080/"
        },
        "outputId": "39231afc-5f1a-4fa4-dcda-14bec6bcf569"
      },
      "outputs": [
        {
          "output_type": "stream",
          "name": "stdout",
          "text": [
            "Outputs:\n",
            "tf.Tensor(\n",
            "[[[ 0.01630845 -0.0280382  -0.01342707  0.00249801]\n",
            "  [ 0.01012968 -0.00064945 -0.02948507  0.02167038]\n",
            "  [-0.04061853  0.03396517  0.02463391 -0.00579173]\n",
            "  [-0.01580817 -0.03685774 -0.01101297  0.0341831 ]]], shape=(1, 4, 4), dtype=float32)\n"
          ]
        }
      ],
      "source": [
        "# Define the configuration\n",
        "class Config:\n",
        "    def __init__(self):\n",
        "        self.sequence_length = 4\n",
        "        self.source_vocab_size = 14969\n",
        "        self.target_vocab_size = 29219\n",
        "        self.hidden_size = 4\n",
        "        self.frequency_factor = 10000\n",
        "        self.max_position_embeddings = 4\n",
        "        self.mask_zero = True\n",
        "\n",
        "config = Config()\n",
        "\n",
        "# Create an instance of the PositionalEmbeddings layer\n",
        "positional_encoding_layer = PositionalEmbeddings(config)\n",
        "\n",
        "# Create a sample input tensor with token IDs\n",
        "batch_size = 1\n",
        "seq_length = 4\n",
        "input_ids = tf.random.uniform((batch_size, seq_length), maxval=config.sequence_length, dtype=tf.int32)\n",
        "\n",
        "# Apply positional encodings\n",
        "output_embeddings = positional_encoding_layer(input_ids)\n",
        "\n",
        "# Print the output positional embeddings\n",
        "print(\"Outputs:\")\n",
        "print(output_embeddings)\n"
      ]
    },
    {
      "cell_type": "markdown",
      "metadata": {
        "id": "kn2AC0H1yKdX"
      },
      "source": [
        "#### Embeddings layer"
      ]
    },
    {
      "cell_type": "code",
      "execution_count": null,
      "metadata": {
        "id": "6Ss3WhIL_iOv"
      },
      "outputs": [],
      "source": [
        "import tensorflow as tf\n",
        "\n",
        "class Embeddings(tf.keras.layers.Layer):\n",
        "    \"\"\"\n",
        "    Embeddings layer.\n",
        "\n",
        "    This layer combines token embeddings with positional embeddings to create the final embeddings.\n",
        "\n",
        "    Args:\n",
        "        config (object): Configuration object containing parameters.\n",
        "        vocab_size: Vocabulary size.\n",
        "\n",
        "    Attributes:\n",
        "        token_embeddings (tf.keras.layers.Embedding): Token embedding layer.\n",
        "        PositionalInfo (tf.keras.layers.Layer): Positional information layer.\n",
        "        dropout (tf.keras.layers.Dropout): Dropout layer for regularization.\n",
        "        norm (tf.keras.layers.LayerNormalization): Layer normalization for normalization.\n",
        "    \"\"\"\n",
        "\n",
        "    def __init__(self, config, vocab_size, name = None,  **kwargs):\n",
        "        super(Embeddings, self).__init__(name = name)\n",
        "        super(Embeddings, self).__init__(**kwargs)\n",
        "        self.token_embeddings = tf.keras.layers.Embedding(\n",
        "            input_dim= vocab_size, output_dim=config.hidden_size\n",
        "        )\n",
        "        if config.positional_information_type == 'embs':\n",
        "            self.PositionalInfo = PositionalEmbeddings(config)\n",
        "        elif config.positional_information_type == 'sinu':\n",
        "            self.PositionalInfo = SinusoidalPositionalEncoding(config)\n",
        "\n",
        "        self.dropout = tf.keras.layers.Dropout(config.hidden_dropout_prob)\n",
        "        self.norm = tf.keras.layers.LayerNormalization()\n",
        "\n",
        "    def call(self, input_ids, training=False):\n",
        "        \"\"\"\n",
        "        Generate embeddings for input IDs.\n",
        "\n",
        "        Args:\n",
        "            input_ids (tf.Tensor): Input tensor containing token IDs.\n",
        "            training (bool, optional): Whether the model is in training mode. Defaults to False.\n",
        "\n",
        "        Returns:\n",
        "            tf.Tensor: Embeddings tensor of shape (batch_size, seq_length, hidden_size).\n",
        "        \"\"\"\n",
        "        positional_info = self.PositionalInfo(input_ids)\n",
        "        x = self.token_embeddings(input_ids)\n",
        "        x += positional_info\n",
        "        x = self.norm(x)\n",
        "        x = self.dropout(x, training=training)\n",
        "        return x\n",
        "\n",
        "    def compute_mask(self, inputs, mask=None):\n",
        "        \"\"\"\n",
        "        Computes the mask for the inputs.\n",
        "\n",
        "        Args:\n",
        "            inputs (tf.Tensor): Input tensor.\n",
        "            mask (tf.Tensor, optional): Mask tensor. Defaults to None.\n",
        "\n",
        "        Returns:\n",
        "            tf.Tensor: Computed mask tensor.\n",
        "        \"\"\"\n",
        "        return tf.math.not_equal(inputs, 0)\n",
        "\n",
        "    def get_config(self):\n",
        "        \"\"\"\n",
        "        Get the layer configuration.\n",
        "\n",
        "        Returns:\n",
        "            dict: Dictionary containing the layer configuration.\n",
        "        \"\"\"\n",
        "        config = super().get_config()\n",
        "        config.update({\n",
        "            \"token_embeddings\": self.token_embeddings,\n",
        "            \"PositionalInfo\": self.PositionalInfo,\n",
        "            \"dropout\": self.dropout,\n",
        "            \"norm\": self.norm,\n",
        "        })\n",
        "        return config"
      ]
    },
    {
      "cell_type": "code",
      "execution_count": null,
      "metadata": {
        "id": "pwv2m4PzRJm8"
      },
      "outputs": [],
      "source": [
        "# Define the configuration\n",
        "class Config:\n",
        "    def __init__(self):\n",
        "        self.sequence_length = 4\n",
        "        self.source_vocab_size = 14969\n",
        "        self.target_vocab_size = 29219\n",
        "        self.hidden_size = 4\n",
        "        self.frequency_factor = 10000\n",
        "        self.max_position_embeddings = 4\n",
        "        self.positional_information_type = 'embs'\n",
        "        self.source_vocab_size = 10\n",
        "        self.target_vocab_size = 10\n",
        "        self.hidden_dropout_prob = 0.1\n",
        "\n",
        "\n",
        "config = Config()\n",
        "\n",
        "# Create an instance of the Embeddings layer\n",
        "Embeddings_layer = Embeddings(config, vocab_size = 10)\n",
        "\n",
        "# Create a sample input tensor with token IDs\n",
        "batch_size = 1\n",
        "seq_length = 4\n",
        "input_ids = tf.random.uniform((batch_size, seq_length), maxval=config.sequence_length, dtype=tf.int32)\n",
        "\n",
        "# Apply positional encodings\n",
        "output_embeddings = Embeddings_layer(input_ids)\n",
        "\n",
        "# Print the output positional embeddings\n",
        "print(\"Outputs:\")\n",
        "print(output_embeddings)"
      ]
    },
    {
      "cell_type": "markdown",
      "metadata": {
        "id": "VuBIvpAXGiSf"
      },
      "source": [
        "### Encoder"
      ]
    },
    {
      "cell_type": "markdown",
      "metadata": {
        "id": "4xpcf7AWHtUq"
      },
      "source": [
        "#### Attination Head"
      ]
    },
    {
      "cell_type": "code",
      "execution_count": null,
      "metadata": {
        "id": "gHyzu3wRuHqr"
      },
      "outputs": [],
      "source": [
        "class AttentionHead(tf.keras.layers.Layer):\n",
        "    \"\"\"\n",
        "    Attention head implementation.\n",
        "\n",
        "    Args:\n",
        "        head_dim: Dimensionality of the attention head.\n",
        "\n",
        "    Attributes:\n",
        "        head_dim: Dimensionality of the attention head.\n",
        "        query_weights: Dense layer for query projection.\n",
        "        key_weights: Dense layer for key projection.\n",
        "        value_weights: Dense layer for value projection.\n",
        "    \"\"\"\n",
        "\n",
        "    def __init__(self, head_dim, name = None, **kwargs):\n",
        "        super(AttentionHead, self).__init__(name = name)\n",
        "        super(AttentionHead, self).__init__(**kwargs)\n",
        "        self.supports_masking = True  # Enable masking support\n",
        "        self.head_dim = head_dim\n",
        "        self.query_weights = tf.keras.layers.Dense(head_dim)\n",
        "        self.key_weights = tf.keras.layers.Dense(head_dim)\n",
        "        self.value_weights = tf.keras.layers.Dense(head_dim)\n",
        "\n",
        "    def call(self, query, key, value, mask=None):\n",
        "        \"\"\"\n",
        "        Applies attention mechanism to the input query, key, and value tensors.\n",
        "\n",
        "        Args:\n",
        "            query: Query tensor.\n",
        "            key: Key tensor.\n",
        "            value: Value tensor.\n",
        "            mask: Optional mask tensor.\n",
        "\n",
        "        Returns:\n",
        "            Updated value embeddings after applying attention mechanism.\n",
        "        \"\"\"\n",
        "        query = self.query_weights(query)\n",
        "        key = self.key_weights(key)\n",
        "        value = self.value_weights(value)\n",
        "\n",
        "        att_scores = tf.matmul(query, tf.transpose(key, perm=[0, 2, 1])) / tf.math.sqrt(tf.cast(tf.shape(query)[-1], tf.float32))\n",
        "\n",
        "        if mask is not None:\n",
        "            mask = tf.cast(mask, dtype=tf.bool)\n",
        "            att_scores = tf.where(mask, att_scores, tf.constant(-1e9, dtype=att_scores.dtype))\n",
        "\n",
        "        att_weights = tf.nn.softmax(att_scores, axis=-1)\n",
        "        n_value = tf.matmul(att_weights, value)\n",
        "\n",
        "        return n_value\n",
        "\n",
        "    def get_config(self):\n",
        "        \"\"\"\n",
        "        Returns the configuration of the attention head layer.\n",
        "\n",
        "        Returns:\n",
        "            Configuration dictionary.\n",
        "        \"\"\"\n",
        "        config = super().get_config()\n",
        "        config.update({\n",
        "            \"head_dim\": self.head_dim,\n",
        "            \"query_weights\": self.query_weights,\n",
        "            \"key_weights\": self.key_weights,\n",
        "            \"value_weights\": self.value_weights,\n",
        "        })\n",
        "        return config\n"
      ]
    },
    {
      "cell_type": "markdown",
      "metadata": {
        "id": "F74CdsjAHyez"
      },
      "source": [
        "#### Multi-head attention"
      ]
    },
    {
      "cell_type": "code",
      "execution_count": null,
      "metadata": {
        "id": "YqGoyesAHqR1"
      },
      "outputs": [],
      "source": [
        "class MultiHead_Attention(tf.keras.layers.Layer):\n",
        "    \"\"\"\n",
        "    Multi-head attention layer implementation.\n",
        "\n",
        "    Args:\n",
        "        config: Configuration object containing hyperparameters.\n",
        "\n",
        "    Attributes:\n",
        "        supports_masking: Boolean indicating if the layer supports masking.\n",
        "        hidden_size: Dimensionality of the hidden state.\n",
        "        num_heads: Number of attention heads.\n",
        "        head_dim: Dimensionality of each attention head.\n",
        "        attention_heads: List of AttentionHead layers.\n",
        "        fc: Fully connected layer for final projection.\n",
        "    \"\"\"\n",
        "\n",
        "    def __init__(self, config, name=None, **kwargs):\n",
        "        super(MultiHead_Attention, self).__init__(name=name)\n",
        "        super(MultiHead_Attention, self).__init__(**kwargs)\n",
        "        self.supports_masking = True\n",
        "        self.hidden_size = config.hidden_size\n",
        "        self.num_heads = config.num_heads\n",
        "        self.head_dim = config.hidden_size // config.num_heads\n",
        "        self.attention_heads = [AttentionHead(self.head_dim) for _ in range(self.num_heads)]\n",
        "        self.fc = tf.keras.layers.Dense(config.hidden_size)\n",
        "\n",
        "    def call(self, query, key, value, mask=None):\n",
        "        \"\"\"\n",
        "        Applies multi-head attention mechanism to the input query, key, and value tensors.\n",
        "\n",
        "        Args:\n",
        "            query: Query tensor.\n",
        "            key: Key tensor.\n",
        "            value: Value tensor.\n",
        "            mask: Optional mask tensor.\n",
        "\n",
        "        Returns:\n",
        "            Updated hidden state after applying multi-head attention mechanism.\n",
        "        \"\"\"\n",
        "        attention_outputs = [attention_head(query, key, value, mask=mask) for attention_head in self.attention_heads]\n",
        "        hidden_state = tf.concat(attention_outputs, axis=-1)\n",
        "        hidden_state = self.fc(hidden_state)\n",
        "        return hidden_state\n",
        "\n",
        "    def get_config(self):\n",
        "        \"\"\"\n",
        "        Returns the configuration of the multi-head attention layer.\n",
        "\n",
        "        Returns:\n",
        "            Configuration dictionary.\n",
        "        \"\"\"\n",
        "        config = super().get_config()\n",
        "        config.update({\n",
        "            \"hidden_size\": self.hidden_size,\n",
        "            \"num_heads\": self.num_heads,\n",
        "            \"head_dim\": self.head_dim,\n",
        "            \"attention_heads\": self.attention_heads,\n",
        "            \"fc\": self.fc,\n",
        "        })\n",
        "        return config"
      ]
    },
    {
      "cell_type": "code",
      "execution_count": null,
      "metadata": {
        "colab": {
          "base_uri": "https://localhost:8080/"
        },
        "id": "2Kf58zACgZIS",
        "outputId": "5f5b07a0-58bc-4aa0-b617-52f9d923a506"
      },
      "outputs": [
        {
          "output_type": "stream",
          "name": "stdout",
          "text": [
            "Outputs:\n",
            "tf.Tensor(\n",
            "[[[-0.19603872  0.62370175  0.00938863 -0.8792861 ]\n",
            "  [-0.19392842  0.6028574   0.00985217 -0.895087  ]\n",
            "  [-0.19179727  0.6012584   0.0114027  -0.89725673]\n",
            "  [-0.19112027  0.59981096  0.01184295 -0.89861196]]], shape=(1, 4, 4), dtype=float32)\n"
          ]
        }
      ],
      "source": [
        "# Define the configuration\n",
        "class Config:\n",
        "    def __init__(self):\n",
        "        self.sequence_length = 4\n",
        "        self.source_vocab_size = 10\n",
        "        self.target_vocab_size = 10\n",
        "        self.hidden_size = 4\n",
        "        self.frequency_factor = 10000\n",
        "        self.max_position_embeddings = 4\n",
        "        self.positional_information_type = 'embs'\n",
        "        self.hidden_dropout_prob = 0.1\n",
        "        self.num_heads = 2\n",
        "\n",
        "config = Config()\n",
        "\n",
        "Embeddings_layer = Embeddings(config, 10)\n",
        "\n",
        "input_ids = tf.constant([[2, 2, 0, 0]])\n",
        "\n",
        "x = Embeddings_layer(input_ids)\n",
        "\n",
        "# Apply MultiHeadAttention\n",
        "multihead_attn = MultiHead_Attention(config)\n",
        "x = multihead_attn(x, x, x)\n",
        "\n",
        "print(\"Outputs:\")\n",
        "print(x)"
      ]
    },
    {
      "cell_type": "code",
      "execution_count": null,
      "metadata": {
        "id": "mo50vujWTDwq"
      },
      "outputs": [],
      "source": []
    },
    {
      "cell_type": "markdown",
      "metadata": {
        "id": "sg_-qfdCHIxR"
      },
      "source": [
        "#### The Feed-Forward Layer and Normalization"
      ]
    },
    {
      "cell_type": "code",
      "execution_count": null,
      "metadata": {
        "id": "vMUgHrVcHLVW"
      },
      "outputs": [],
      "source": [
        "class FeedForward(tf.keras.layers.Layer):\n",
        "    \"\"\"\n",
        "    Feed-forward layer implementation.\n",
        "\n",
        "    Args:\n",
        "        config: Configuration object containing hyperparameters.\n",
        "\n",
        "    Attributes:\n",
        "        supports_masking: Boolean indicating if the layer supports masking.\n",
        "        fc1: First dense layer.\n",
        "        fc2: Second dense layer.\n",
        "        dropout: Dropout layer.\n",
        "    \"\"\"\n",
        "\n",
        "    def __init__(self, config, name=None, **kwargs):\n",
        "        super(FeedForward, self).__init__(name=name)\n",
        "        super(FeedForward, self).__init__(**kwargs)\n",
        "        self.supports_masking = True\n",
        "        self.fc1 = tf.keras.layers.Dense(config.intermediate_fc_size, activation=tf.keras.activations.gelu)\n",
        "        self.fc2 = tf.keras.layers.Dense(config.hidden_size)\n",
        "        self.dropout = tf.keras.layers.Dropout(config.hidden_dropout_prob)\n",
        "\n",
        "    def call(self, hidden_state, training=False):\n",
        "        \"\"\"\n",
        "        Applies feed-forward transformation to the input hidden state.\n",
        "\n",
        "        Args:\n",
        "            hidden_state: Hidden state tensor (batch_size, sequence_length, hidden_size).\n",
        "            training: Boolean indicating whether the model is in training mode or inference mode.\n",
        "\n",
        "        Returns:\n",
        "            Updated hidden state after applying feed-forward transformation.\n",
        "        \"\"\"\n",
        "        hidden_state = self.fc1(hidden_state)\n",
        "        hidden_state = self.dropout(hidden_state, training=training)\n",
        "        hidden_state = self.fc2(hidden_state)\n",
        "        return hidden_state\n",
        "\n",
        "    def get_config(self):\n",
        "        \"\"\"\n",
        "        Returns the configuration of the feed-forward layer.\n",
        "\n",
        "        Returns:\n",
        "            Configuration dictionary.\n",
        "        \"\"\"\n",
        "        config = super().get_config()\n",
        "        config.update({\n",
        "            \"fc1\": self.fc1,\n",
        "            \"fc2\": self.fc2,\n",
        "            \"dropout\": self.dropout,\n",
        "        })\n",
        "        return config"
      ]
    },
    {
      "cell_type": "markdown",
      "metadata": {
        "id": "mGU0kMOzHaAj"
      },
      "source": [
        "#### Encoder layer"
      ]
    },
    {
      "cell_type": "code",
      "execution_count": null,
      "metadata": {
        "id": "HKDAMyvuHYil"
      },
      "outputs": [],
      "source": [
        "class Encoder(tf.keras.layers.Layer):\n",
        "    \"\"\"\n",
        "    Encoder layer implementation.\n",
        "\n",
        "    Args:\n",
        "        config: Configuration object.\n",
        "\n",
        "    Attributes:\n",
        "        multihead_attention: Multi-head attention layer.\n",
        "        norm1: Layer normalization layer.\n",
        "        norm2: Layer normalization layer.\n",
        "        feed_forward: Feed-forward layer.\n",
        "        dropout: Dropout layer.\n",
        "    \"\"\"\n",
        "\n",
        "    def __init__(self, config, name=None, **kwargs):\n",
        "        super(Encoder, self).__init__(name=name)\n",
        "        super(Encoder, self).__init__(**kwargs)\n",
        "        self.supports_masking = True\n",
        "        self.multihead_attention = MultiHead_Attention(config)\n",
        "        self.norm1 = tf.keras.layers.LayerNormalization()\n",
        "        self.norm2 = tf.keras.layers.LayerNormalization()\n",
        "        self.feed_forward = FeedForward(config)\n",
        "        self.dropout = tf.keras.layers.Dropout(config.hidden_dropout_prob)\n",
        "\n",
        "    def call(self, hidden_state, mask=None, training=False):\n",
        "        \"\"\"\n",
        "        Applies the encoder layer to the input hidden state.\n",
        "\n",
        "        Args:\n",
        "            hidden_state: Hidden state tensor (bs, len, dim).\n",
        "            mask: Padding mask tensor (bs, len, len) or (bs, 1, len) or None.\n",
        "            training: Boolean flag indicating whether the layer is in training mode or not.\n",
        "\n",
        "        Returns:\n",
        "            Updated hidden state after applying the encoder layer.\n",
        "        \"\"\"\n",
        "\n",
        "        attention_output = self.multihead_attention(hidden_state, hidden_state, hidden_state, mask = None)  # Apply multi-head attention\n",
        "        hidden_state = self.norm1(attention_output + hidden_state)  # Add skip connection and normalize\n",
        "        feed_forward_output = self.feed_forward(hidden_state)  # Apply feed-forward layer\n",
        "        hidden_state = self.norm2(feed_forward_output + hidden_state)  # Add skip connection and normalize\n",
        "        hidden_state = self.dropout(hidden_state, training=training)  # Apply dropout\n",
        "        return hidden_state\n",
        "\n",
        "    def get_config(self):\n",
        "        \"\"\"\n",
        "        Returns the configuration of the encoder layer.\n",
        "\n",
        "        Returns:\n",
        "            Configuration dictionary.\n",
        "        \"\"\"\n",
        "\n",
        "        config = super().get_config()\n",
        "        config.update({\n",
        "            \"multihead_attention\": self.multihead_attention,\n",
        "            \"norm1\": self.norm1,\n",
        "            \"norm2\": self.norm2,\n",
        "            \"feed_forward\": self.feed_forward,\n",
        "            \"dropout\": self.dropout,\n",
        "        })\n",
        "        return config\n"
      ]
    },
    {
      "cell_type": "code",
      "execution_count": null,
      "metadata": {
        "id": "ka3QTSmMH54q",
        "colab": {
          "base_uri": "https://localhost:8080/"
        },
        "outputId": "403d0798-f32c-4be9-a8e7-d33c9f74392b"
      },
      "outputs": [
        {
          "output_type": "stream",
          "name": "stdout",
          "text": [
            "Outputs:\n",
            "tf.Tensor(\n",
            "[[[ 1.3782277  -0.27358374  0.28824583 -1.3928899 ]\n",
            "  [-0.58701557  1.6332425  -0.05553263 -0.9906943 ]\n",
            "  [ 0.7772341  -1.6541214   0.06944932  0.80743796]\n",
            "  [ 1.2515924  -1.2637957   0.6517466  -0.63954335]]\n",
            "\n",
            " [[ 1.3063093   0.23750131 -0.04989911 -1.4939115 ]\n",
            "  [-0.65859026  1.619962    0.00743284 -0.96880454]\n",
            "  [-0.9060655   1.4495562   0.4089052  -0.95239586]\n",
            "  [ 1.1702925  -1.542554    0.48513612 -0.11287448]]], shape=(2, 4, 4), dtype=float32)\n"
          ]
        }
      ],
      "source": [
        "# Define the configuration\n",
        "class Config:\n",
        "    def __init__(self):\n",
        "        self.sequence_length = 4\n",
        "        self.source_vocab_size = 10\n",
        "        self.target_vocab_size = 10\n",
        "        self.hidden_size = 4\n",
        "        self.frequency_factor = 10000\n",
        "        self.max_position_embeddings = 4\n",
        "        self.positional_information_type = 'embs'\n",
        "        self.hidden_dropout_prob = 0.1\n",
        "        self.num_heads = 2\n",
        "        self.intermediate_fc_size = self.hidden_size * 4.\n",
        "\n",
        "\n",
        "config = Config()\n",
        "\n",
        "Embeddings_layer = Embeddings(config, 10)\n",
        "\n",
        "batch_size = 2\n",
        "seq_length = 4\n",
        "input_ids = tf.random.uniform((batch_size, seq_length), maxval=config.sequence_length, dtype=tf.int32)\n",
        "\n",
        "x = Embeddings_layer(input_ids)\n",
        "\n",
        "encoder = Encoder(config)\n",
        "x = encoder(x)\n",
        "\n",
        "print(\"Outputs:\")\n",
        "print(x)"
      ]
    },
    {
      "cell_type": "markdown",
      "metadata": {
        "id": "_rCuO7eeH6pE"
      },
      "source": [
        "### Decoder"
      ]
    },
    {
      "cell_type": "markdown",
      "metadata": {
        "id": "ohnhzncjhZzE"
      },
      "source": [
        "#### Decoder Layer"
      ]
    },
    {
      "cell_type": "code",
      "execution_count": null,
      "metadata": {
        "id": "BoEUlfzplo-u"
      },
      "outputs": [],
      "source": [
        "class Decoder(tf.keras.layers.Layer):\n",
        "    \"\"\"\n",
        "    Decoder layer implementation.\n",
        "\n",
        "    Args:\n",
        "        config: Configuration object containing hyperparameters.\n",
        "\n",
        "    Attributes:\n",
        "        supports_masking: Boolean indicating if the layer supports masking.\n",
        "        masked_multihead_attention: Masked multi-head attention layer.\n",
        "        multihead_attention: Multi-head attention layer.\n",
        "        norm1: Layer normalization layer.\n",
        "        norm2: Layer normalization layer.\n",
        "        norm3: Layer normalization layer.\n",
        "        feed_forward: Feed-forward layer.\n",
        "        dropout: Dropout layer.\n",
        "    \"\"\"\n",
        "\n",
        "    def __init__(self, config, name=None, **kwargs):\n",
        "        super(Decoder, self).__init__(name=name)\n",
        "        super(Decoder, self).__init__(**kwargs)\n",
        "        self.supports_masking = True\n",
        "        self.masked_multihead_attention = MultiHead_Attention(config)\n",
        "        self.multihead_attention = MultiHead_Attention(config)\n",
        "        self.norm1 = tf.keras.layers.LayerNormalization()\n",
        "        self.norm2 = tf.keras.layers.LayerNormalization()\n",
        "        self.norm3 = tf.keras.layers.LayerNormalization()\n",
        "        self.feed_forward = FeedForward(config)\n",
        "        self.dropout = tf.keras.layers.Dropout(config.hidden_dropout_prob)\n",
        "\n",
        "    def call(self, hidden_state, encoder_info, mask=None, training=False):\n",
        "        \"\"\"\n",
        "        Applies the decoder layer to the input hidden state.\n",
        "\n",
        "        Args:\n",
        "            hidden_state: Hidden state tensor.\n",
        "            encoder_info: Encoder information tensor.\n",
        "            mask: Optional mask tensor.\n",
        "            training: Boolean indicating if the model is in training mode.\n",
        "\n",
        "        Returns:\n",
        "            Updated hidden state after applying the decoder layer.\n",
        "        \"\"\"\n",
        "        input_shape = tf.shape(hidden_state)\n",
        "        causal_mask = self.get_causal_attention_mask(hidden_state)\n",
        "\n",
        "        if mask is not None:\n",
        "            padding_mask = tf.cast(mask[:, tf.newaxis, :], dtype=tf.int32)\n",
        "            padding_mask = tf.minimum(padding_mask, causal_mask)\n",
        "\n",
        "        attention_output = self.masked_multihead_attention(hidden_state, hidden_state, hidden_state, mask=causal_mask)\n",
        "        hidden_state = self.norm1(attention_output + hidden_state)\n",
        "        attention_output = self.multihead_attention(hidden_state, encoder_info, encoder_info, mask=padding_mask)\n",
        "        hidden_state = self.norm2(attention_output + hidden_state)\n",
        "        feed_forward_output = self.feed_forward(hidden_state)\n",
        "        hidden_state = self.norm3(feed_forward_output + hidden_state)\n",
        "        hidden_state = self.dropout(hidden_state, training=training)\n",
        "        return hidden_state\n",
        "\n",
        "    def get_causal_attention_mask(self, inputs):\n",
        "        \"\"\"\n",
        "        Generates the causal attention mask.\n",
        "\n",
        "        Args:\n",
        "            inputs: Input tensor.\n",
        "\n",
        "        Returns:\n",
        "            Causal attention mask tensor.\n",
        "        \"\"\"\n",
        "        input_shape = tf.shape(inputs)\n",
        "        batch_size, sequence_length = input_shape[0], input_shape[1]\n",
        "        i = tf.range(sequence_length)[:, tf.newaxis]\n",
        "        j = tf.range(sequence_length)\n",
        "        mask = tf.cast(i >= j, dtype=tf.int32)\n",
        "        mask = tf.reshape(mask, (1, input_shape[1], input_shape[1]))\n",
        "        mult = tf.concat(\n",
        "            [tf.expand_dims(batch_size, -1), tf.constant([1, 1], dtype=tf.int32)],\n",
        "            axis=0,\n",
        "        )\n",
        "        return tf.tile(mask, mult)\n",
        "\n",
        "    def get_config(self):\n",
        "        \"\"\"\n",
        "        Returns the configuration of the decoder layer.\n",
        "\n",
        "        Returns:\n",
        "            Configuration dictionary.\n",
        "        \"\"\"\n",
        "        config = super().get_config()\n",
        "        config.update({\n",
        "            \"masked_multihead_attention\": self.masked_multihead_attention,\n",
        "            \"multihead_attention\": self.multihead_attention,\n",
        "            \"norm1\": self.norm1,\n",
        "            \"norm2\": self.norm2,\n",
        "            \"norm3\": self.norm3,\n",
        "            \"feed_forward\": self.feed_forward,\n",
        "            \"dropout\": self.dropout,\n",
        "        })\n",
        "        return config"
      ]
    },
    {
      "cell_type": "code",
      "execution_count": null,
      "metadata": {
        "id": "wPKzdeVbM4k1"
      },
      "outputs": [],
      "source": []
    },
    {
      "cell_type": "code",
      "execution_count": null,
      "metadata": {
        "id": "zuIekwIgpMTZ",
        "colab": {
          "base_uri": "https://localhost:8080/"
        },
        "outputId": "e250713e-446a-4a90-d3fd-22b78de75e81"
      },
      "outputs": [
        {
          "output_type": "stream",
          "name": "stdout",
          "text": [
            "Outputs:\n",
            "tf.Tensor(\n",
            "[[[ 0.7623217  -0.71306705 -1.2300535   1.1807988 ]\n",
            "  [ 1.250659   -0.643796    0.65204614 -1.258909  ]\n",
            "  [ 1.1821826  -0.06859311  0.43531924 -1.5489087 ]\n",
            "  [ 1.1212182  -0.24643904  0.6328109  -1.5075902 ]]\n",
            "\n",
            " [[ 0.58930755 -0.15254109 -1.5472996   1.1105332 ]\n",
            "  [ 1.3379257  -1.3227949   0.4647567  -0.4798876 ]\n",
            "  [ 0.57029516 -0.7739589   1.336633   -1.1329693 ]\n",
            "  [ 0.4329416  -0.86517     1.4338249  -1.0015966 ]]], shape=(2, 4, 4), dtype=float32)\n"
          ]
        }
      ],
      "source": [
        "class Config:\n",
        "    def __init__(self):\n",
        "        self.sequence_length = 4\n",
        "        self.source_vocab_size = 10\n",
        "        self.target_vocab_size = 10\n",
        "        self.hidden_size = 4\n",
        "        self.frequency_factor = 10000\n",
        "        self.max_position_embeddings = 4\n",
        "        self.positional_information_type = 'embs'\n",
        "        self.hidden_dropout_prob = 0.1\n",
        "        self.num_heads = 2\n",
        "        self.intermediate_fc_size = self.hidden_size * 4\n",
        "\n",
        "config = Config()\n",
        "\n",
        "embeddings_layer1 = Embeddings(config, 10)\n",
        "embeddings_layer2 = Embeddings(config, 10)\n",
        "\n",
        "batch_size = 2\n",
        "seq_length = 4\n",
        "input_ids1 = tf.constant([[2, 1, 3, 0], [2, 1, 3, 0]])\n",
        "input_ids2 = tf.constant([[1, 3, 0, 0], [2, 1, 3, 0]])\n",
        "\n",
        "x1 = embeddings_layer1(input_ids1)\n",
        "x2 = embeddings_layer2(input_ids2)\n",
        "\n",
        "encoder = Encoder(config)\n",
        "decoder = Decoder(config)\n",
        "\n",
        "enc_out = encoder(x1)\n",
        "enc_out = tf.keras.layers.Masking()(enc_out)\n",
        "\n",
        "x = decoder(x2, enc_out)\n",
        "\n",
        "print(\"Outputs:\")\n",
        "print(x)"
      ]
    },
    {
      "cell_type": "code",
      "execution_count": null,
      "metadata": {
        "id": "UEj1JqyOwlyq"
      },
      "outputs": [],
      "source": [
        "import tensorflow as tf\n",
        "\n",
        "class Transformer(tf.keras.Model):\n",
        "    \"\"\"\n",
        "    Transformer model implementation for sequence-to-sequence tasks.\n",
        "\n",
        "    Args:\n",
        "        config: Configuration object containing model hyperparameters.\n",
        "        source_vocab_size: The vocabulary size of the source language.\n",
        "        target_vocab_size: The vocabulary size of the target language.\n",
        "\n",
        "    Attributes:\n",
        "        enc_embed_layer: Embeddings layer for the encoder inputs.\n",
        "        dec_embed_layer: Embeddings layer for the decoder inputs.\n",
        "        encoder: List of encoder layers.\n",
        "        decoder: List of decoder layers.\n",
        "        dropout: Dropout layer for regularization.\n",
        "        output_layer: Dense layer for output prediction.\n",
        "\n",
        "    Methods:\n",
        "        call: Forward pass of the transformer model.\n",
        "        get_config: Returns the configuration dictionary of the transformer model.\n",
        "    \"\"\"\n",
        "\n",
        "    def __init__(self, config, source_vocab_size, target_vocab_size, name=None, **kwargs):\n",
        "        super(Transformer, self).__init__(name=name)\n",
        "        super(Transformer, self).__init__(**kwargs)\n",
        "        self.enc_embed_layer = Embeddings(config, source_vocab_size)\n",
        "        self.dec_embed_layer = Embeddings(config, target_vocab_size)\n",
        "        self.encoder = [Encoder(config) for _ in range(config.num_blocks)]\n",
        "        self.decoder = [Decoder(config) for _ in range(config.num_blocks)]\n",
        "        self.dropout = tf.keras.layers.Dropout(config.final_dropout_prob)\n",
        "        self.output_layer = tf.keras.layers.Dense(target_vocab_size)\n",
        "\n",
        "    def call(self, inputs, training=False):\n",
        "        \"\"\"\n",
        "        Forward pass of the transformer model.\n",
        "\n",
        "        Args:\n",
        "            inputs: Input data.\n",
        "            training: Boolean flag indicating whether the model is in training mode or not.\n",
        "\n",
        "        Returns:\n",
        "            Output logits of the transformer model.\n",
        "        \"\"\"\n",
        "        source_inputs = inputs[\"encoder_inputs\"]\n",
        "        target_inputs = inputs[\"decoder_inputs\"]\n",
        "\n",
        "        x_enc = self.enc_embed_layer(source_inputs)\n",
        "        x_dec = self.dec_embed_layer(target_inputs)\n",
        "\n",
        "        for encoder_layer in self.encoder:\n",
        "            x_enc = encoder_layer(x_enc, training=training)\n",
        "\n",
        "        # Remove the mask used in the encoder as it's not needed in the decoder\n",
        "        x_enc._keras_mask = None\n",
        "\n",
        "        for decoder_layer in self.decoder:\n",
        "            x_dec = decoder_layer(x_dec, x_enc, training=training)\n",
        "\n",
        "        x_dec = self.dropout(x_dec, training=training)\n",
        "        x_logits = self.output_layer(x_dec)\n",
        "\n",
        "        # Remove the mask from the logits as it's not needed in the loss function\n",
        "        x_logits._keras_mask = None\n",
        "\n",
        "        return x_logits\n",
        "\n",
        "    def get_config(self):\n",
        "        \"\"\"\n",
        "        Returns the configuration dictionary of the transformer model.\n",
        "\n",
        "        Returns:\n",
        "            Configuration dictionary.\n",
        "        \"\"\"\n",
        "        config = super().get_config()\n",
        "        config.update({\n",
        "            \"enc_embed_layer\": self.enc_embed_layer,\n",
        "            \"dec_embed_layer\": self.dec_embed_layer,\n",
        "            \"encoder\": self.encoder,\n",
        "            \"decoder\": self.decoder,\n",
        "            \"dropout\": self.dropout,\n",
        "            \"encoder\": self.encoder,\n",
        "            \"decoder\": self.decoder,\n",
        "            \"output_layer\": self.output_layer,\n",
        "        })\n",
        "        return config"
      ]
    },
    {
      "cell_type": "markdown",
      "metadata": {
        "id": "iV-5AC16T3pv"
      },
      "source": [
        "## End-to-end Transformer"
      ]
    },
    {
      "cell_type": "markdown",
      "metadata": {
        "id": "RSGsKq5u3uDE"
      },
      "source": [
        "### LrSchedule"
      ]
    },
    {
      "cell_type": "code",
      "execution_count": null,
      "metadata": {
        "id": "3jPMdR2gT7OT"
      },
      "outputs": [],
      "source": [
        "import tensorflow as tf\n",
        "\n",
        "class LrSchedule(tf.keras.optimizers.schedules.LearningRateSchedule):\n",
        "    \"\"\"\n",
        "    Custom learning rate schedule with warmup for training.\n",
        "\n",
        "    Args:\n",
        "        hidden_size: Hidden size of the model.\n",
        "        warmup_steps: Number of warmup steps for learning rate warmup.\n",
        "    \"\"\"\n",
        "\n",
        "    def __init__(self, hidden_size, warmup_steps=4000):\n",
        "        super(LrSchedule, self).__init__()\n",
        "        self.warmup_steps = warmup_steps\n",
        "        self.d = tf.cast(hidden_size, tf.float32)\n",
        "\n",
        "    def __call__(self, step):\n",
        "        \"\"\"\n",
        "        Calculates the learning rate based on the current step.\n",
        "\n",
        "        Args:\n",
        "            step: Current optimization step.\n",
        "\n",
        "        Returns:\n",
        "            The learning rate value.\n",
        "\n",
        "        \"\"\"\n",
        "        step = tf.cast(step, dtype=tf.float32)\n",
        "        arg1 = tf.math.rsqrt(step)\n",
        "        arg2 = step * (self.warmup_steps ** -1.5)\n",
        "        lr = tf.math.rsqrt(self.d) * tf.math.minimum(arg1, arg2)\n",
        "        return lr\n",
        "\n",
        "    def get_config(self):\n",
        "        \"\"\"\n",
        "        Returns the configuration of the custom learning rate schedule.\n",
        "\n",
        "        Returns:\n",
        "            Configuration dictionary.\n",
        "\n",
        "        \"\"\"\n",
        "        return {\n",
        "            \"warmup_steps\": self.warmup_steps,\n",
        "            \"hidden_size\": int(self.d.numpy()),  # Cast to native Python int\n",
        "        }\n"
      ]
    },
    {
      "cell_type": "code",
      "execution_count": null,
      "metadata": {
        "colab": {
          "base_uri": "https://localhost:8080/",
          "height": 449
        },
        "id": "EdTxp0TthBw3",
        "outputId": "55911e20-e0e6-497a-9d67-663eb0971fe0"
      },
      "outputs": [
        {
          "output_type": "display_data",
          "data": {
            "text/plain": [
              "<Figure size 640x480 with 1 Axes>"
            ],
            "image/png": "[encoded data removed]"
          },
          "metadata": {}
        }
      ],
      "source": [
        "import matplotlib.pyplot as plt\n",
        "\n",
        "class Config:\n",
        "    def __init__(self):\n",
        "        self.sequence_length = 4\n",
        "        self.source_vocab_size = 10\n",
        "        self.target_vocab_size = 10\n",
        "        self.hidden_size = 4\n",
        "        self.frequency_factor = 10000\n",
        "        self.max_position_embeddings = 4\n",
        "        self.positional_information_type = 'embs'\n",
        "        self.hidden_dropout_prob = 0.1\n",
        "        self.num_heads = 2\n",
        "        self.intermediate_fc_size = self.hidden_size * 4\n",
        "        self.warmup_steps = 4000\n",
        "\n",
        "\n",
        "config = Config()\n",
        "\n",
        "d = 768\n",
        "lr = LrSchedule()\n",
        "optimizer = tf.keras.optimizers.Adam(lr, beta_1=0.9, beta_2=0.98, epsilon=1e-9)\n",
        "\n",
        "plt.plot(lr(tf.range(40000, dtype=tf.float32)))\n",
        "plt.ylabel('Learning Rate')\n",
        "plt.xlabel('Train Step')\n",
        "plt.show()"
      ]
    },
    {
      "cell_type": "markdown",
      "metadata": {
        "id": "ks43_OTo3z_b"
      },
      "source": [
        "### Loss Function"
      ]
    },
    {
      "cell_type": "code",
      "execution_count": null,
      "metadata": {
        "id": "cdJaX55idYRC"
      },
      "outputs": [],
      "source": [
        "import tensorflow as tf\n",
        "\n",
        "def scce_masked_loss(label, pred):\n",
        "    \"\"\"\n",
        "    Computes the masked Sparse Categorical Cross Entropy (SCCE) loss between the predicted and target labels.\n",
        "\n",
        "    Args:\n",
        "        label: Target label tensor.\n",
        "        pred: Predicted logit tensor.\n",
        "\n",
        "    Returns:\n",
        "        Masked loss value.\n",
        "    \"\"\"\n",
        "    # Create a mask to ignore padded tokens\n",
        "    mask = label != 0\n",
        "\n",
        "    # Use Sparse Categorical Cross Entropy loss with no reduction\n",
        "    loss_object = tf.keras.losses.SparseCategoricalCrossentropy(\n",
        "        from_logits=True, reduction='none')\n",
        "\n",
        "    # Compute the loss without reducing, which will return a loss value for each token\n",
        "    loss = loss_object(label, pred)\n",
        "\n",
        "    # Apply the mask to ignore padded tokens in the loss calculation\n",
        "    mask = tf.cast(mask, dtype=loss.dtype)\n",
        "    loss *= mask\n",
        "\n",
        "    # Compute the average loss over non-padded tokens\n",
        "    loss = tf.reduce_sum(loss) / tf.reduce_sum(mask)\n",
        "    return loss"
      ]
    },
    {
      "cell_type": "code",
      "execution_count": null,
      "metadata": {
        "id": "zUbvzlUa3rnQ"
      },
      "outputs": [],
      "source": [
        "import tensorflow as tf\n",
        "\n",
        "def cce_loss(label, pred):\n",
        "    \"\"\"\n",
        "    Computes the Categorical Cross Entropy (CCE) loss with optional label smoothing.\n",
        "\n",
        "    Args:\n",
        "        label: Target label tensor.\n",
        "        pred: Predicted logit tensor.\n",
        "\n",
        "    Returns:\n",
        "        Computed CCE loss value.\n",
        "    \"\"\"\n",
        "    # Create a mask to ignore padded tokens\n",
        "    mask = label != 0\n",
        "\n",
        "    # Use Categorical Cross Entropy with optional label smoothing\n",
        "    scc_loss = tf.keras.losses.CategoricalCrossentropy(\n",
        "        from_logits=True, label_smoothing=0.1, reduction='none')\n",
        "\n",
        "    # Convert label to one-hot encoding\n",
        "    label = tf.one_hot(tf.cast(label, tf.int32), config.target_vocab_size)\n",
        "\n",
        "    # Compute the loss with the label smoothing\n",
        "    loss = scc_loss(label, pred)\n",
        "\n",
        "    # Apply the mask to ignore padded tokens in the loss calculation\n",
        "    mask = tf.cast(mask, dtype=loss.dtype)\n",
        "    loss *= mask\n",
        "\n",
        "    # Compute the average loss over non-padded tokens\n",
        "    loss = tf.reduce_sum(loss) / tf.reduce_sum(mask)\n",
        "    return loss"
      ]
    },
    {
      "cell_type": "markdown",
      "metadata": {
        "id": "I2cGZ_is33Yv"
      },
      "source": [
        "### Metrices"
      ]
    },
    {
      "cell_type": "code",
      "execution_count": null,
      "metadata": {
        "id": "qSx8rS3_3oKY"
      },
      "outputs": [],
      "source": [
        "import tensorflow as tf\n",
        "\n",
        "def masked_accuracy(label, pred):\n",
        "    \"\"\"\n",
        "    Computes the masked accuracy between the predicted and target labels.\n",
        "\n",
        "    Args:\n",
        "        label: Target label tensor.\n",
        "        pred: Predicted label tensor.\n",
        "\n",
        "    Returns:\n",
        "        Masked accuracy value.\n",
        "    \"\"\"\n",
        "    # Get the predicted labels by taking the argmax along the last dimension\n",
        "    pred_labels = tf.argmax(pred, axis=2)\n",
        "\n",
        "    # Convert the target labels to the same data type as the predicted labels\n",
        "    label = tf.cast(label, pred_labels.dtype)\n",
        "\n",
        "    # Compute a binary tensor for matching predicted and target labels\n",
        "    match = label == pred_labels\n",
        "\n",
        "    # Create a mask to ignore padded tokens\n",
        "    mask = label != 0\n",
        "\n",
        "    # Apply the mask to the matching tensor\n",
        "    match = match & mask\n",
        "\n",
        "    # Convert the binary tensor to floating-point values\n",
        "    match = tf.cast(match, dtype=tf.float32)\n",
        "    mask = tf.cast(mask, dtype=tf.float32)\n",
        "\n",
        "    # Compute the accuracy over non-padded tokens\n",
        "    return tf.reduce_sum(match) / tf.reduce_sum(mask)"
      ]
    },
    {
      "cell_type": "code",
      "execution_count": null,
      "metadata": {
        "colab": {
          "base_uri": "https://localhost:8080/"
        },
        "id": "2IlvL3qo5bMi",
        "outputId": "e9f6e30b-fd8a-481e-97f5-9d15b63b15c5"
      },
      "outputs": [
        {
          "output_type": "stream",
          "name": "stdout",
          "text": [
            "Average BLEU Score: [0.7860753]\n"
          ]
        }
      ],
      "source": [
        "import tensorflow as tf\n",
        "import numpy as np\n",
        "from collections import Counter\n",
        "\n",
        "def compute_precision(candidate_ngrams, reference_ngrams):\n",
        "    \"\"\"\n",
        "    Compute the precision of candidate n-grams with respect to reference n-grams.\n",
        "\n",
        "    Args:\n",
        "        candidate_ngrams: List of tuples representing candidate n-grams.\n",
        "        reference_ngrams: List of tuples representing reference n-grams.\n",
        "\n",
        "    Returns:\n",
        "        Precision value.\n",
        "    \"\"\"\n",
        "    candidate_counter = Counter(candidate_ngrams)\n",
        "    reference_counter = Counter(reference_ngrams)\n",
        "\n",
        "    # Calculate the intersection of n-grams in candidate and reference sentences\n",
        "    intersection = sum((candidate_counter & reference_counter).values())\n",
        "\n",
        "    # Total candidate n-grams\n",
        "    total_candidate = sum(candidate_counter.values())\n",
        "\n",
        "    # To avoid division by zero, set precision to a small value if there are no candidate n-grams\n",
        "    precision = intersection / total_candidate if total_candidate > 0 else 1e-10\n",
        "\n",
        "    return precision\n",
        "\n",
        "def compute_bleu_batch(references_batch, candidates_batch, max_n=4):\n",
        "    \"\"\"\n",
        "    Compute the masked BLEU score for a batch of sentences.\n",
        "\n",
        "    Args:\n",
        "        label: Target label tensor.\n",
        "        pred: Predicted tensor.\n",
        "        max_n: Maximum n-gram for BLEU computation.\n",
        "\n",
        "    Returns:\n",
        "        Computed masked BLEU score.\n",
        "    \"\"\"\n",
        "\n",
        "    batch_size = len(references_batch)\n",
        "    total_bleu_score = 0.0\n",
        "\n",
        "    # Tokenize and compute n-grams for each candidate-reference pair in the batch\n",
        "    for i in range(batch_size):\n",
        "        references = references_batch[i]\n",
        "        candidates = candidates_batch[i]\n",
        "\n",
        "        precisions = []\n",
        "\n",
        "        for candidate, reference in zip(candidates, references):\n",
        "            candidate_tokens = candidate.split()\n",
        "            reference_tokens = reference.split()\n",
        "\n",
        "            # Calculate BLEU score for each n-gram up to max_n\n",
        "            for n in range(1, max_n + 1):\n",
        "                candidate_ngrams = [tuple(candidate_tokens[j:j + n]) for j in range(len(candidate_tokens) - n + 1)]\n",
        "                reference_ngrams = [tuple(reference_tokens[j:j + n]) for j in range(len(reference_tokens) - n + 1)]\n",
        "\n",
        "                precision_n = compute_precision(candidate_ngrams, reference_ngrams)\n",
        "                precisions.append(precision_n)\n",
        "\n",
        "        # Calculate the geometric mean of all the n-gram precisions for this candidate-reference pair\n",
        "        geometric_mean = np.exp(np.mean(np.log(np.maximum(precisions, 1e-10))))\n",
        "\n",
        "        # Calculate the brevity penalty for this candidate-reference pair\n",
        "        reference_length = [len(reference.split()) for reference in references]\n",
        "        candidate_length = [len(candidate.split()) for candidate in candidates]\n",
        "\n",
        "        closest_refs = [min(reference_length, key=lambda x: abs(x - candidate_len)) for candidate_len in candidate_length]\n",
        "        brevity_penalty = np.minimum(np.exp(1 - np.array(closest_refs) / np.array(candidate_length)), 1.0)\n",
        "\n",
        "        # Calculate the BLEU score for this candidate-reference pair\n",
        "        bleu_score = geometric_mean * brevity_penalty\n",
        "\n",
        "        total_bleu_score += bleu_score\n",
        "\n",
        "    # Calculate the average BLEU score over the entire batch\n",
        "    average_bleu_score = total_bleu_score / batch_size\n",
        "\n",
        "    return average_bleu_score\n",
        "\n",
        "# Example usage with batch of sentences\n",
        "references_batch = [[\"the quick brown fox jumped over the lazy dog\"]]\n",
        "candidates_batch = [[\"the quick brown fox jumped over the lazy dog from space\"]]\n",
        "bleu_score_batch = compute_bleu_batch(references_batch, candidates_batch)\n",
        "print(\"Average BLEU Score:\", bleu_score_batch)  # Output: 0.78"
      ]
    },
    {
      "cell_type": "markdown",
      "source": [
        "### Callbacks"
      ],
      "metadata": {
        "id": "NXQpZ4dIxz54"
      }
    },
    {
      "cell_type": "code",
      "source": [
        "import tensorflow as tf\n",
        "\n",
        "class TransformerCallbacks(tf.keras.callbacks.Callback):\n",
        "    \"\"\"\n",
        "    Custom callback to monitor the validation loss during training and save the best model.\n",
        "\n",
        "    Args:\n",
        "        config: Configuration object containing hyperparameters.\n",
        "\n",
        "    Attributes:\n",
        "        checkpoint_filepath: Filepath to save the best model.\n",
        "        patience: Number of epochs to wait for improvement in validation loss.\n",
        "        best_loss: Best validation loss observed during training.\n",
        "\n",
        "    Methods:\n",
        "        on_epoch_end: Called at the end of each epoch to monitor the validation loss.\n",
        "\n",
        "    \"\"\"\n",
        "\n",
        "    def __init__(self, config):\n",
        "        super(TransformerCallbacks, self).__init__()\n",
        "        self.checkpoint_filepath = config.checkpoint_filepath\n",
        "        self.patience = config.patience\n",
        "        self.best_loss = float('inf')  # Initialize with a very large value for the first comparison\n",
        "\n",
        "    def on_epoch_end(self, epoch, logs={}):\n",
        "        \"\"\"\n",
        "        Callback function called at the end of each epoch to monitor the validation loss.\n",
        "\n",
        "        Args:\n",
        "            epoch: The current epoch number.\n",
        "            logs: Dictionary containing training and validation metrics.\n",
        "\n",
        "        \"\"\"\n",
        "        # Access the validation loss from the logs dictionary\n",
        "        val_loss = logs.get('val_loss')\n",
        "\n",
        "        if val_loss < self.best_loss:\n",
        "            self.best_loss = val_loss\n",
        "            self.model.save(self.checkpoint_filepath)\n",
        "            print('The best model has been saved at epoch #{}'.format(epoch))\n",
        "        elif self.patience:\n",
        "            self.patience -= 1\n",
        "            if self.patience == 0:\n",
        "                self.model.stop_training = True\n",
        "                print('Training stopped. No improvement after {} epochs.'.format(epoch))"
      ],
      "metadata": {
        "id": "3cdlgCwCx4aJ"
      },
      "execution_count": null,
      "outputs": []
    },
    {
      "cell_type": "markdown",
      "source": [
        "### Transformer Configuration"
      ],
      "metadata": {
        "id": "kcnL8SixyLzV"
      }
    },
    {
      "cell_type": "code",
      "source": [
        "class Config:\n",
        "    def __init__(self):\n",
        "        \"\"\"\n",
        "        Configuration class for transformer model hyperparameters.\n",
        "\n",
        "        Attributes:\n",
        "            sequence_length: Maximum sequence length for input sequences.\n",
        "            hidden_size: Hidden size for the transformer model.\n",
        "            frequency_factor: Frequency factor for positional encodings.\n",
        "            source_vocab_size: Vocabulary size for the source language.\n",
        "            target_vocab_size: Vocabulary size for the target language.\n",
        "            positional_information_type: Type of positional embeddings to use.\n",
        "            hidden_dropout_prob: Dropout probability for the hidden layers.\n",
        "            num_heads: Number of attention heads in multi-head attention.\n",
        "            intermediate_fc_size: Size of the intermediate fully connected layer.\n",
        "            warmup_steps: Number of warm-up steps for learning rate scheduling.\n",
        "            num_blocks: Number of encoder and decoder blocks in the transformer.\n",
        "            final_dropout_prob: Dropout probability for the final output.\n",
        "            epochs: Number of epochs for training.\n",
        "            checkpoint_filepath: Filepath for saving model checkpoints.\n",
        "            patience: Number of epochs with no improvement after which training will be stopped.\n",
        "\n",
        "        \"\"\"\n",
        "        self.sequence_length = 60\n",
        "        self.hidden_size = 256\n",
        "        self.frequency_factor = 10000\n",
        "        self.source_vocab_size = 16721\n",
        "        self.target_vocab_size = 31405\n",
        "        self.positional_information_type = 'embs'\n",
        "        self.hidden_dropout_prob = 0.1\n",
        "        self.num_heads = 4\n",
        "        self.intermediate_fc_size = self.hidden_size * 4\n",
        "        self.warmup_steps = 4000\n",
        "        self.num_blocks = 2\n",
        "        self.final_dropout_prob = 0.5\n",
        "        self.epochs = 30\n",
        "        self.checkpoint_filepath = '/content/drive/MyDrive/Colab Notebooks/NMT/tmp/checkpoint'\n",
        "        self.patience = 3"
      ],
      "metadata": {
        "id": "WoAROC-LyODs"
      },
      "execution_count": null,
      "outputs": []
    },
    {
      "cell_type": "markdown",
      "source": [
        "### Monitor"
      ],
      "metadata": {
        "id": "ap8JYDGJ80p1"
      }
    },
    {
      "cell_type": "code",
      "execution_count": null,
      "metadata": {
        "id": "a1N6EMojzGIn",
        "colab": {
          "base_uri": "https://localhost:8080/"
        },
        "outputId": "10539806-102f-41c5-d458-5aad2f718295"
      },
      "outputs": [
        {
          "output_type": "stream",
          "name": "stdout",
          "text": [
            "Epoch 1/30\n",
            "1828/1828 [==============================] - ETA: 0s - loss: 6.0016 - masked_accuracy: 0.3204"
          ]
        },
        {
          "output_type": "stream",
          "name": "stderr",
          "text": [
            "WARNING:absl:Found untraced functions such as _update_step_xla, embedding_19_layer_call_fn, embedding_19_layer_call_and_return_conditional_losses, positional_embeddings_21_layer_call_fn, positional_embeddings_21_layer_call_and_return_conditional_losses while saving (showing 5 of 297). These functions will not be directly callable after loading.\n"
          ]
        },
        {
          "output_type": "stream",
          "name": "stdout",
          "text": [
            "The best model has been saved at epoch #0\n",
            "\b\b\b\b\b\b\b\b\b\b\b\b\b\b\b\b\b\b\b\b\b\b\b\b\b\b\b\b\b\b\b\b\b\b\b\b\b\b\b\b\b\b\b\b\b\b\b\b\b\b\b\b\b\b\b\b\b\b\b\b\b\b\b\b\b\b\b\b\b\b\b\b\b\b\b\b\b\b\b\b\b\b\b\b\b\b\b\b\b\b\b\b\b\r1828/1828 [==============================] - 536s 266ms/step - loss: 6.0016 - masked_accuracy: 0.3204 - val_loss: 4.3211 - val_masked_accuracy: 0.4816\n",
            "Epoch 2/30\n",
            " 972/1828 [==============>...............] - ETA: 2:43 - loss: 4.3010 - masked_accuracy: 0.5027"
          ]
        }
      ],
      "source": [
        "import tensorflow as tf\n",
        "\n",
        "config = Config()\n",
        "\n",
        "# Create the Transformer model\n",
        "transformer = Transformer(config, config.source_vocab_size, config.target_vocab_size)\n",
        "\n",
        "# Create the learning rate schedule\n",
        "lr = LrSchedule(config.hidden_size, config.warmup_steps)\n",
        "\n",
        "# Create the custom callbacks for monitoring and early stopping\n",
        "callbacks = TransformerCallbacks(config)\n",
        "\n",
        "# Create the Adam optimizer with the custom learning rate\n",
        "optimizer = tf.keras.optimizers.Adam(\n",
        "    lr,\n",
        "    beta_1=0.9,\n",
        "    beta_2=0.98,\n",
        "    epsilon=1e-9\n",
        ")\n",
        "\n",
        "# Compile the Transformer model with the custom loss function and optimizer\n",
        "transformer.compile(\n",
        "    loss=cce_loss,\n",
        "    optimizer=optimizer,\n",
        "    metrics=[masked_accuracy]\n",
        ")\n",
        "\n",
        "# Train the Transformer model on the training dataset\n",
        "# and validate it on the validation dataset\n",
        "history = transformer.fit(\n",
        "    train_ds,\n",
        "    epochs=config.epochs,\n",
        "    validation_data=val_ds,\n",
        "    callbacks=callbacks\n",
        ")"
      ]
    },
    {
      "cell_type": "markdown",
      "metadata": {
        "id": "bBHC8xcOLIj6"
      },
      "source": [
        "## Inference"
      ]
    },
    {
      "cell_type": "code",
      "source": [
        "config = Config()\n",
        "\n",
        "with open(\"vectorize.pickle\", \"rb\") as fp:\n",
        "    data = pickle.load(fp)\n",
        "\n",
        "test_pairs = data[\"test\"]\n",
        "eng_vectorizer = tf.keras.layers.TextVectorization.from_config(data[\"engvec_config\"])\n",
        "eng_vectorizer.set_weights(data[\"engvec_weights\"])\n",
        "fra_vectorizer = tf.keras.layers.TextVectorization.from_config(data[\"fravec_config\"])\n",
        "fra_vectorizer.set_weights(data[\"fravec_weights\"])\n",
        "\n",
        "# Load the trained model\n",
        "custom_objects = {\n",
        "    \"LrSchedule\": LrSchedule,\n",
        "    \"PositionalEmbeddings\": PositionalEmbeddings,\n",
        "    \"Embeddings\": Embeddings,\n",
        "    \"AttentionHead\": AttentionHead,\n",
        "    \"MultiHead_Attention\": MultiHead_Attention,\n",
        "    \"FeedForward\": FeedForward,\n",
        "    \"Encoder\": Encoder,\n",
        "    \"Decoder\": Decoder,\n",
        "    \"Transformer\": Transformer,\n",
        "    \"cce_loss\": cce_loss,\n",
        "    \"masked_accuracy\": masked_accuracy}\n",
        "\n",
        "with tf.keras.utils.custom_object_scope(custom_objects):\n",
        "    model = tf.keras.models.load_model('/content/drive/MyDrive/Colab Notebooks/NMT/tmp/checkpoint')\n",
        "\n",
        "def translate(sentence, sequence_length, target_vocab_size):\n",
        "    \"\"\"\n",
        "    Generate the translated sentence using the trained Transformer model.\n",
        "\n",
        "    Args:\n",
        "        sentence (str): The input English sentence to be translated.\n",
        "        sequence_length (int): Maximum sequence length for input sequences.\n",
        "        target_vocab_size (int): Vocabulary size for the target language.\n",
        "\n",
        "    Returns:\n",
        "        list: A list containing the translated words in the target language.\n",
        "\n",
        "    \"\"\"\n",
        "    enc_tokens = eng_vectorizer([sentence])\n",
        "    lookup = list(fra_vectorizer.get_vocabulary())\n",
        "    start_sentinel, end_sentinel = \"[start]\", \"[end]\"\n",
        "    output_sentence = [start_sentinel]\n",
        "\n",
        "    # Generate the translated sentence word by word\n",
        "    for i in range(sequence_length):\n",
        "        vector = fra_vectorizer([\" \".join(output_sentence)])\n",
        "        assert vector.shape == (1, sequence_length + 1)\n",
        "        dec_tokens = vector[:, :-1]\n",
        "        assert dec_tokens.shape == (1, sequence_length)\n",
        "        pred = model({\"encoder_inputs\": enc_tokens, \"decoder_inputs\": dec_tokens}, training=False)\n",
        "        assert pred.shape == (1, sequence_length, target_vocab_size)\n",
        "        word = lookup[np.argmax(pred[0, i, :])]\n",
        "        output_sentence.append(word)\n",
        "        if word == end_sentinel:\n",
        "            break\n",
        "\n",
        "    return output_sentence"
      ],
      "metadata": {
        "id": "BlDQ9D04upTR"
      },
      "execution_count": null,
      "outputs": []
    },
    {
      "cell_type": "code",
      "execution_count": null,
      "metadata": {
        "id": "GuNyjrF9LK58",
        "colab": {
          "base_uri": "https://localhost:8080/"
        },
        "outputId": "14c5c9fc-ccff-4a7b-a807-7ff0c4bf3bd1"
      },
      "outputs": [
        {
          "output_type": "stream",
          "name": "stdout",
          "text": [
            "Test 0:\n",
            "What did you go there for ?\n",
            "== [start] Pour quelle raison y as-tu été  ?  [end]\n",
            "-> [start] [end]\n",
            "\n",
            "Test 1:\n",
            "That bicycle is too small for you .\n",
            "== [start] Ce vélo est trop petit pour vous . [end]\n",
            "-> [start] [end]\n",
            "\n",
            "Test 2:\n",
            "Are you mentally ill ?\n",
            "== [start] Êtes-vous mentalement dérangé  ?  [end]\n",
            "-> [start] [end]\n",
            "\n"
          ]
        }
      ],
      "source": [
        "test_count = 3\n",
        "for n in range(test_count):\n",
        "    english_sentence, french_sentence = random.choice(test_pairs)\n",
        "    translated = translate(english_sentence)\n",
        "    print(f\"Test {n}:\")\n",
        "    print(f\"Source sentence:{english_sentence}\")\n",
        "    print(f\"Typical translation: {french_sentence}\")\n",
        "    print(f\"Model translation {' '.join(translated)}\")\n",
        "    print()"
      ]
    }
  ],
  "metadata": {
    "colab": {
      "provenance": [],
      "gpuType": "T4",
      "collapsed_sections": [
        "6sdTvZlCA7YX",
        "-ZkBwvWnIHrz",
        "plQuKWBfJas8",
        "ks43_OTo3z_b"
      ]
    },
    "kernelspec": {
      "display_name": "Python 3",
      "name": "python3"
    },
    "language_info": {
      "name": "python"
    }
  },
  "nbformat": 4,
  "nbformat_minor": 0
}